{
 "cells": [
  {
   "cell_type": "code",
   "execution_count": null,
   "id": "97992d2e",
   "metadata": {},
   "outputs": [],
   "source": [
    "# We said that NumPy is pretty much a list on steroids. Let’s see that in action.\n",
    "\n",
    "# For the tasks below, do them using a regular Python list implementation, and then use NumPy.\n",
    "\n",
    "# Create a table (i.e. a 2d array) of size M x N filled with random integers between 1 and 100,\n",
    "# where 1 < N < 40 and 1 < M < 50.\n",
    "\n",
    "# Print out the third row\n",
    "\n",
    "# Print out the third column\n",
    "\n",
    "# Set every element in the last row equal to 7\n",
    "\n",
    "# Set every element in the last column equal the sum of the first two columns. (note: the result of\n",
    "# the sum is a list which will the same length as the last column)"
   ]
  },
  {
   "cell_type": "code",
   "execution_count": 1,
   "id": "79b09315",
   "metadata": {},
   "outputs": [],
   "source": [
    "import random\n",
    "import pandas as pd\n",
    "import numpy as np"
   ]
  },
  {
   "cell_type": "code",
   "execution_count": 2,
   "id": "2994aba7",
   "metadata": {},
   "outputs": [
    {
     "name": "stdout",
     "output_type": "stream",
     "text": [
      "[[81 65 51 68 51 96]\n",
      " [ 8 47 27 36 99 60]\n",
      " [15 62 28 81 38 92]\n",
      " [96 37 80 82 97 23]\n",
      " [53 21 61 62 17 18]]\n"
     ]
    }
   ],
   "source": [
    "def create_mat(M,N):\n",
    "    if M<50 and N<40:\n",
    "        return np.random.randint(1,101,(M,N))\n",
    "print(create_mat(5,6))"
   ]
  },
  {
   "cell_type": "code",
   "execution_count": 7,
   "id": "3481838e",
   "metadata": {},
   "outputs": [
    {
     "name": "stdout",
     "output_type": "stream",
     "text": [
      "[[  1 100  41  82  86  36]\n",
      " [ 18  63  54  56  93  46]\n",
      " [ 43  37   8  98  92  25]\n",
      " [ 32  26  82   1  94  12]\n",
      " [ 50  18  70  97 100  41]]\n"
     ]
    }
   ],
   "source": [
    "a=create_mat(5,6)\n",
    "print(a)"
   ]
  },
  {
   "cell_type": "code",
   "execution_count": 8,
   "id": "43037f1f",
   "metadata": {},
   "outputs": [
    {
     "name": "stdout",
     "output_type": "stream",
     "text": [
      "[43 37  8 98 92 25]\n"
     ]
    }
   ],
   "source": [
    "print(a[2])"
   ]
  },
  {
   "cell_type": "code",
   "execution_count": 9,
   "id": "8fda86d3",
   "metadata": {},
   "outputs": [
    {
     "name": "stdout",
     "output_type": "stream",
     "text": [
      "[82 56 98  1 97]\n"
     ]
    }
   ],
   "source": [
    "print(a[:,3])"
   ]
  },
  {
   "cell_type": "code",
   "execution_count": 10,
   "id": "374aa916",
   "metadata": {},
   "outputs": [
    {
     "name": "stdout",
     "output_type": "stream",
     "text": [
      "[[  1 100  41  82  86  36]\n",
      " [ 18  63  54  56  93  46]\n",
      " [ 43  37   8  98  92  25]\n",
      " [ 32  26  82   1  94  12]\n",
      " [  7   7   7   7   7   7]]\n"
     ]
    }
   ],
   "source": [
    "a[-1]=7\n",
    "print(a)"
   ]
  },
  {
   "cell_type": "code",
   "execution_count": 12,
   "id": "b734b143",
   "metadata": {},
   "outputs": [
    {
     "name": "stdout",
     "output_type": "stream",
     "text": [
      "[[  1 100  41  82  86 101]\n",
      " [ 18  63  54  56  93  81]\n",
      " [ 43  37   8  98  92  80]\n",
      " [ 32  26  82   1  94  58]\n",
      " [  7   7   7   7   7  14]]\n"
     ]
    }
   ],
   "source": [
    "a[:,-1]=a[:,0]+a[:,1]\n",
    "print(a)"
   ]
  },
  {
   "cell_type": "code",
   "execution_count": null,
   "id": "55a4722c",
   "metadata": {},
   "outputs": [],
   "source": []
  }
 ],
 "metadata": {
  "kernelspec": {
   "display_name": "Python 3 (ipykernel)",
   "language": "python",
   "name": "python3"
  },
  "language_info": {
   "codemirror_mode": {
    "name": "ipython",
    "version": 3
   },
   "file_extension": ".py",
   "mimetype": "text/x-python",
   "name": "python",
   "nbconvert_exporter": "python",
   "pygments_lexer": "ipython3",
   "version": "3.8.12"
  }
 },
 "nbformat": 4,
 "nbformat_minor": 5
}
